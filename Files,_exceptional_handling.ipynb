{
  "nbformat": 4,
  "nbformat_minor": 0,
  "metadata": {
    "colab": {
      "provenance": []
    },
    "kernelspec": {
      "name": "python3",
      "display_name": "Python 3"
    },
    "language_info": {
      "name": "python"
    }
  },
  "cells": [
    {
      "cell_type": "markdown",
      "source": [
        "# **Theoretical Questions :**"
      ],
      "metadata": {
        "id": "KPGxJHdRAcOO"
      }
    },
    {
      "cell_type": "markdown",
      "source": [
        "**Q1.**What is the difference between interpreted and compiled languages?  \n",
        "**Ans:**Compiled and interpreted languages are two fundamental types of programming languages, each with its own method of converting human-readable code into machine-readable code.\n",
        "\n",
        "**Compiled Languages** :\n",
        "A compiled language is one where the source code is translated into machine code by a compiler before execution. This machine code is directly executed by the computer's CPU.   \n",
        "Examples of compiled languages include C, C++ .\n",
        "\n",
        "Characteristics:\n",
        "1.Performance: Compiled programs generally run faster because the translation is done beforehand.  \n",
        "2.Error Checking: Compilation errors are detected before execution, preventing the code from running until errors are fixed.  \n",
        "3.Platform Dependence: The generated machine code is specific to the target machine's architecture.\n",
        "\n",
        "**Interpreted Languages**:  \n",
        "An interpreted language is one where the source code is executed line-by-line by an interpreter at runtime.  \n",
        "Examples of interpreted languages include Python, JavaScript, and PHP.\n",
        "\n",
        "Characteristics:  \n",
        "1.Flexibility: Interpreted programs can be modified while running, making them more adaptable.    \n",
        "2.Debugging: Errors are detected at runtime, which can make debugging easier but may also lead to runtime errors.  \n",
        "3.Platform Independence: The source code is platform-independent, as the interpreter handles the translation."
      ],
      "metadata": {
        "id": "vgABjrxcAm5K"
      }
    },
    {
      "cell_type": "markdown",
      "source": [
        "**Q2.** What is exception handling in Python ?  \n",
        "**Ans:**Python Exception Handling handles errors that occur during the execution of a program. Exception handling allows to respond to the error, instead of crashing the running program. It enables you to catch and manage errors, making your code more robust and user-friendly."
      ],
      "metadata": {
        "id": "xyZwzLiKAyK4"
      }
    },
    {
      "cell_type": "code",
      "source": [
        "# Example of an exception\n",
        "n = 10\n",
        "try:\n",
        "    res = n / 0  # This will raise a ZeroDivisionError\n",
        "\n",
        "except ZeroDivisionError:\n",
        "    print(\"Can't be divided by zero!\")"
      ],
      "metadata": {
        "colab": {
          "base_uri": "https://localhost:8080/"
        },
        "id": "znSmE1rKKkju",
        "outputId": "8a1d762c-d2df-41a8-bd81-1986b60b4df6"
      },
      "execution_count": null,
      "outputs": [
        {
          "output_type": "stream",
          "name": "stdout",
          "text": [
            "Can't be divided by zero!\n"
          ]
        }
      ]
    },
    {
      "cell_type": "markdown",
      "source": [
        "In this example, dividing number by 0 raises a ZeroDivisionError. The try block contains the code that might cause an exception and the except block handles the exception, printing an error message instead of stopping the program."
      ],
      "metadata": {
        "id": "B6tVkpuFK4r6"
      }
    },
    {
      "cell_type": "markdown",
      "source": [
        "**Q3.**What is the purpose of the finally block in exception handling?   \n",
        "**Ans:**In programming, there may be some situation in which the current method ends up while handling some exceptions. But the method may require some additional steps before its termination, like closing a file or a network and so on. So, in order to handle these situations, Python provides a keyword finally, which is always executed after try and except blocks. The finally block always executes after normal termination of try block or after try block terminates due to some exception.  \n",
        "Syntax:\n"
      ],
      "metadata": {
        "id": "KfzKa9NfA__a"
      }
    },
    {
      "cell_type": "code",
      "source": [
        "try:\n",
        "       # Some Code....\n",
        "\n",
        "except:\n",
        "       # optional block\n",
        "       # Handling of exception (if required)\n",
        "\n",
        "finally:\n",
        "      # Some code .....(always executed)"
      ],
      "metadata": {
        "id": "hv8dXVt7LbKb"
      },
      "execution_count": null,
      "outputs": []
    },
    {
      "cell_type": "markdown",
      "source": [
        "Important Points –  \n",
        "1.finally block is always executed after leaving the try statement. In case if some exception was not handled by except block, it is re-raised after execution of finally block.  \n",
        "2.finally block is used to deallocate the system resources.  \n",
        "3.One can use finally just after try without using except block, but no exception is handled in that case."
      ],
      "metadata": {
        "id": "AavvS8jjLicZ"
      }
    },
    {
      "cell_type": "markdown",
      "source": [
        "**Q4.** What is logging in Python?  \n",
        "**Ans:**Logging is a crucial aspect of software development, debugging, and running applications. It allows developers to track events that occur during the execution of a program, providing insights into the program's flow and helping diagnose issues. Without logging, identifying the cause of a problem can be challenging and time-consuming ."
      ],
      "metadata": {
        "id": "u83IJINXBN39"
      }
    },
    {
      "cell_type": "markdown",
      "source": [
        "**Q5.**What is the significance of the __del__ method in Python?  \n",
        "**Ans:**The __del__ method is a special method in Python that is called when an object is about to be destroyed. It allows you to define specific cleanup actions that should be taken when an object is garbage collected. This method can be particularly useful for releasing external resources such as file handles, network connections, or database connections that the object may hold."
      ],
      "metadata": {
        "id": "2evwbN6xBd9a"
      }
    },
    {
      "cell_type": "markdown",
      "source": [
        "**Q6.**  What is the difference between import and from ... import in Python?  \n",
        "**Ans:**The difference between import and from import in Python is:  \n",
        "import : The import statement import an entire code library,module.  \n",
        "\n",
        "from import : from_imports allows you to import specific member or members of the library such as functions, classes or variables from a module .This can make your code more concise and readable."
      ],
      "metadata": {
        "id": "--KiF0CFBprD"
      }
    },
    {
      "cell_type": "markdown",
      "source": [
        "**Q7.**How can you handle multiple exceptions in Python?  \n",
        "**Ans:**Multiple exceptions can be handled by using multiple except blocks or by catching multiple exception in a single block using a tuple.  \n",
        "In Python, we can handle multiple exceptions using a single try block with multiple except clauses. Each except clause can handle a different type of exception."
      ],
      "metadata": {
        "id": "NT3Mjti7B3MU"
      }
    },
    {
      "cell_type": "markdown",
      "source": [
        "**Q8.**What is the purpose of the with statement when handling files in Python?  \n",
        "**Ans:**In Python, with statement is used in exception handling to make the code cleaner and much more readable. It simplifies the management of common resources like file streams.  \n",
        "The with statement in Python is used for resource management and exception handling. When handling files, the with statement ensures that the file is properly opened and closed, even if an exception occurs. It simplifies the code and makes it more readable by eliminating the need to explicitly close the file.\n",
        "\n",
        "Here's a basic example to illustrate its purpose:"
      ],
      "metadata": {
        "id": "EpTowQRpCC05"
      }
    },
    {
      "cell_type": "code",
      "source": [
        "with open('example.txt', 'r') as file:\n",
        "    content = file.read()\n",
        "    print(content)\n",
        "# No need to explicitly close the file"
      ],
      "metadata": {
        "id": "GZZpSRRlR0N5"
      },
      "execution_count": null,
      "outputs": []
    },
    {
      "cell_type": "markdown",
      "source": [
        "**Q9.**What is the difference between multithreading and multiprocessing?  \n",
        "**Ans:**Multiprocessing uses multiple CPUs to run many processes at a time while multithreading creates multiple threads within a single process to get faster and more efficient task execution. Both Multiprocessing and Multithreading are used to increase the computing power of a system in different ways.  \n",
        "**Multiprocessing **is a system that has more than one or two processors. In Multiprocessing, CPUs are added to increase the computing speed of the system. Because of Multiprocessing, There are many processes are executed simultaneously. Explore more about similar topics. Multiprocessing is classified into two categories:\n",
        "\n",
        "1. Symmetric Multiprocessing\n",
        "2. Asymmetric Multiprocessing\n",
        "\n",
        "![Untitled-Diagram-341.png](data:image/png;base64,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)"
      ],
      "metadata": {
        "id": "zqDWZIbsCMs6"
      }
    },
    {
      "cell_type": "markdown",
      "source": [
        "**Multithreading** is a system in which multiple threads are created of a process for increasing the computing speed of the system. In multithreading, many threads of a process are executed simultaneously and process creation in multithreading is done according to economical.\n",
        "\n",
        "![multi.png](data:image/png;base64,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)"
      ],
      "metadata": {
        "id": "u4nUUaTVSs2G"
      }
    },
    {
      "cell_type": "markdown",
      "source": [
        "**Q10.**What are the advantages of using logging in a program?  \n",
        "**Ans:**Using logging in a program offers numerous advantages that help developers monitor, debug, and maintain their applications more effectively.  \n",
        " Here are some key benefits:\n",
        "\n",
        "1.Debugging and Error Tracking: Logging provides a detailed record of events and errors, which helps in diagnosing issues and understanding the sequence of events that led to a problem.\n",
        "\n",
        "2.Monitoring and Maintenance: Logs can be used to monitor the health and performance of an application. They provide insights into how the application is behaving in production and help identify any unusual patterns or bottlenecks.\n",
        "\n",
        "3.Audit Trails: Logging creates an audit trail of operations and activities, which is essential for security and compliance purposes. It helps track who did what and when, aiding in accountability and transparency.\n",
        "\n",
        "4.Performance Analysis: Logs can be used to analyze the performance of different parts of the application. By measuring the time taken for specific operations, developers can identify and optimize performance-critical sections."
      ],
      "metadata": {
        "id": "w8mI7kTKCU8i"
      }
    },
    {
      "cell_type": "markdown",
      "source": [
        "**Q11.** What is memory management in Python?  \n",
        "**Ans:**Memory management in Python involves the allocation, deallocation, and garbage collection of memory in the Python runtime environment. Here are some key aspects of memory management in Python:\n",
        "\n",
        "1. Automatic Memory Management\n",
        "Python provides automatic memory management, which means that the interpreter handles the allocation and deallocation of memory for objects. This eliminates the need for manual memory management, reducing the risk of memory leaks and other memory-related errors.\n",
        "\n",
        "2. Reference Counting\n",
        "Python uses reference counting to keep track of the number of references to an object. When an object's reference count drops to zero (i.e., no references to the object exist), the memory occupied by the object is deallocated. This helps in reclaiming memory that is no longer needed.\n",
        "\n",
        "3. Garbage Collection\n",
        "In addition to reference counting, Python has a garbage collector that deals with cyclic references (i.e., objects that reference each other, forming a cycle). The garbage collector periodically scans for and collects objects involved in reference cycles, freeing up memory."
      ],
      "metadata": {
        "id": "raukOzWSClsc"
      }
    },
    {
      "cell_type": "markdown",
      "source": [
        "**Q12.**What are the basic steps involved in exception handling in Python?  \n",
        "**Ans:**Exception handling in Python allows you to manage errors gracefully and ensure that your program can continue running even when unexpected issues occur. Here are the basic steps involved in exception handling in Python:\n",
        "\n",
        "1. Try Block :\n",
        "The try block contains the code that might raise an exception. If an exception occurs within this block, the remaining code in the block is skipped, and the control is transferred to the except block.\n",
        "\n",
        "2. Except Block :\n",
        "The except block handles the exception that was raised in the try block. You can specify the type of exception to handle specific errors, or use a general except block to catch all exceptions.\n",
        "\n",
        "3.  Else Block (Optional)\n",
        "The else block contains code that should be executed if no exceptions were raised in the try block. This block is optional and is placed after the except blocks.\n",
        "\n",
        "4. Finally Block (Optional)\n",
        "The finally block contains code that should be executed regardless of whether an exception was raised or not. This block is often used for cleanup actions, such as closing files or releasing resources."
      ],
      "metadata": {
        "id": "aRfAEnZ1Cyth"
      }
    },
    {
      "cell_type": "markdown",
      "source": [
        "**Q13.**Why is memory management important in Python?  \n",
        "**Ans:**Memory management is a crucial aspect of Python programming for several reasons:\n",
        "\n",
        "1. Efficiency : Efficient memory management ensures that programs use only as much memory as necessary. This prevents programs from consuming excessive resources, which could slow down the system and affect other applications running concurrently.\n",
        "\n",
        "2. Performance : Proper memory management helps optimize the performance of an application. By freeing up unused memory and managing allocation effectively, programs can run faster and more smoothly.\n",
        "\n",
        "3. Avoiding Memory Leaks : Memory leaks occur when a program does not release memory that is no longer needed, leading to a gradual increase in memory usage over time. Effective memory management helps prevent memory leaks, ensuring that resources are released and reused appropriately.\n",
        "\n",
        "4. Preventing Crashes : Improper memory management can lead to program crashes and instability. By handling memory allocation and deallocation correctly, programs can avoid unexpected crashes and maintain reliability.\n",
        "\n",
        "5. Resource Constraints : In environments with limited memory resources (e.g., embedded systems or mobile devices), efficient memory management is essential to ensure that programs can run within the constraints of the available hardware.\n",
        "\n",
        "6. Garbage Collection: Python's automatic memory management, including garbage collection, helps manage memory efficiently without requiring manual intervention from the programmer. This reduces the risk of errors and simplifies the development process.\n",
        "\n",
        "7. Scalability: Effective memory management allows programs to scale efficiently.\n",
        "\n",
        "8. Security: Proper memory management helps prevent security vulnerabilities such as buffer overflows.  "
      ],
      "metadata": {
        "id": "vsfGQHMIC9Al"
      }
    },
    {
      "cell_type": "markdown",
      "source": [
        "**Q14.**What is the role of try and except in exception handling ?  \n",
        "**Ans:**The try and except blocks in Python play a crucial role in exception handling. They allow you to catch and handle exceptions (errors) that may occur during the execution of your program, preventing the program from crashing and providing a way to manage and recover from errors gracefully.\n",
        "\n",
        "The try Block : The try block contains the code that you want to execute and that might raise an exception. If an exception occurs within the try block, the normal flow of the program is interrupted, and the control is transferred to the except block.\n",
        "\n",
        "The except Block: The except block contains the code that handles the exception. You can specify different except blocks to handle different types of exceptions. If an exception occurs in the try block, the appropriate except block is executed."
      ],
      "metadata": {
        "id": "IA5XSGzBDJua"
      }
    },
    {
      "cell_type": "markdown",
      "source": [
        "**Q15.** How does Python's garbage collection system work?  \n",
        "**Ans:**Python’s memory allocation and deallocation method is automatic. The user does not have to preallocate or deallocate memory similar to using dynamic memory allocation in languages such as C or C++.\n",
        "Python uses two strategies for memory allocation:\n",
        "Reference counting\n",
        "Garbage collection\n",
        "\n",
        "Python's garbage collection system automatically frees memory by removing objectsthat are no longer referenced .This is achieved through refrence counting and when necessary a cycle detector that finds and removes cycle references."
      ],
      "metadata": {
        "id": "8qi-ZewNDZhe"
      }
    },
    {
      "cell_type": "markdown",
      "source": [
        "**Q16.**What is the purpose of the else block in exception handling?  \n",
        "**Ans:**The else block in exception handling in Python is used to define code that should be executed if no exceptions were raised in the try block. It allows you to separate the code that runs when there are no exceptions from the code that handles exceptions. This can help make your code clearer and more readable"
      ],
      "metadata": {
        "id": "4c5yqa2fDkuc"
      }
    },
    {
      "cell_type": "code",
      "source": [
        "try:\n",
        "    # Code that might raise an exception\n",
        "    result = 10 / 2\n",
        "except ZeroDivisionError:\n",
        "    print(\"Cannot divide by zero!\")\n",
        "except Exception as e:\n",
        "    print(f\"An error occurred: {e}\")\n",
        "else:\n",
        "    print(f\"The result is: {result}\")\n",
        "finally:\n",
        "    print(\"This block is executed no matter what.\")\n"
      ],
      "metadata": {
        "colab": {
          "base_uri": "https://localhost:8080/"
        },
        "id": "_hm1la5jakoL",
        "outputId": "6988a252-eeab-49bc-e819-91bcb7f3767a"
      },
      "execution_count": null,
      "outputs": [
        {
          "output_type": "stream",
          "name": "stdout",
          "text": [
            "The result is: 5.0\n",
            "This block is executed no matter what.\n"
          ]
        }
      ]
    },
    {
      "cell_type": "markdown",
      "source": [
        "**Q17.**What are the common logging levels in Python?  \n",
        "**Ans:**There are five built-in levels of the log message.  \n",
        "\n",
        "1.Debug: These are used to give Detailed information, typically of interest only when diagnosing problems.  \n",
        "2.Info: These are used to confirm that things are working as expected.  \n",
        "3.Warning: These are used as an indication that something unexpected happened, or is indicative of some problem in the near future.  \n",
        "4.Error: This tells that due to a more serious problem, the software has not been able to perform some function.  \n",
        "5.Critical: This tells serious error, indicating that the program itself may be unable to continue running.  \n",
        "\n",
        "If required, developers have the option to create more levels but these are sufficient enough to handle every possible situation. Each built-in level has been assigned its numeric value."
      ],
      "metadata": {
        "id": "qWqZJi4DDxpi"
      }
    },
    {
      "cell_type": "markdown",
      "source": [
        "**Q18.** What is the difference between os.fork() and multiprocessing in Python?  \n",
        "**Ans:**Both os.fork() and the multiprocessing module in Python are used to create new processes, but they have different purposes, advantages, and use cases.  \n",
        "\n",
        "**os.fork()**: Low-level, Unix-specific, creates a child process that is an exact copy of the parent.\n",
        "\n",
        "**multiprocessing**: High-level, cross-platform, provides a flexible API for process creation and management, with IPC mechanisms.\n",
        "\n",
        "The choice between os.fork() and multiprocessing depends on your specific use case and requirements. For most applications, especially those that need to run on multiple platforms, the multiprocessing module is the preferred and more convenient choice."
      ],
      "metadata": {
        "id": "v7pzAoMCD8eb"
      }
    },
    {
      "cell_type": "markdown",
      "source": [
        "**Q19.**What is the importance of closing a file in Python?  \n",
        "**Ans:**Closing a file object in Python is crucial to prevent resource leaks and ensure that changes are saved. Always use the close() method in conjunction with a try-finally block to guarantee proper closure, whether you are reading from or writing to a file. This practice promotes clean and efficient file handling in Python programs.\n",
        "Closing a file in Python is crucial for several reasons:  \n",
        "1. Resource Management :\n",
        "When you open a file, you are consuming system resources such as file handles and memory. Closing a file ensures that these resources are released back to the system, making them available for other processes and preventing resource leaks.\n",
        "2. Data Integrity:\n",
        "Closing a file ensures that all data is properly written to the file. If you do not close a file, any buffered data may not be flushed to disk, leading to incomplete or corrupted files.\n",
        "\n",
        "3. Avoiding File Locks:\n",
        "Some operating systems place a lock on an open file to prevent other processes from modifying it simultaneously. By closing the file, you release the lock, allowing other processes to access the file.\n",
        "\n",
        "4. Consistency:\n",
        "Closing a file ensures that the file's state is consistent. For example, if you are writing to a file, closing it guarantees that the data is written and the file is updated correctly."
      ],
      "metadata": {
        "id": "db-F_qqOEHGf"
      }
    },
    {
      "cell_type": "markdown",
      "source": [
        "**`Q20.`**What is the difference between file.read() and file.readline() in Python?  \n",
        "**Ans:**The methods file.read() and file.readline() are both used to read the contents of a file in Python, but they differ in how they handle the reading process.\n",
        "\n",
        "**file.read()**  \n",
        "Purpose: Reads the entire content of the file or a specified number of characters.   \n",
        "Usage: file.read(size=-1)  \n",
        "Behavior: By default, file.read() reads the entire file content and returns it as a single string. You can specify an optional size argument to limit the number of characters to read.\n",
        "\n",
        "**file.readline()**   \n",
        "Purpose: Reads a single line from the file.  \n",
        "Usage: file.readline(size=-1)  \n",
        "Behavior: file.readline() reads one line from the file and returns it as a string, including the newline character at the end of the line. You can specify an optional size argument to limit the number of characters to read from the line.\n",
        "\n",
        "**Differences between file.read() and file.readline()**  :\n",
        "\n",
        "Reading Scope:  \n",
        "file.read() reads the entire file or a specified number of characters.  \n",
        "file.readline() reads one line at a time.\n",
        "\n",
        "Return Type:  \n",
        "Both methods return the content as a string.\n",
        "\n",
        "Memory Usage:  \n",
        "file.read() can use a lot of memory if the file is large since it reads the entire file into a single string.  \n",
        "file.readline() is more memory-efficient for large files as it reads one line at a time."
      ],
      "metadata": {
        "id": "lgCfwk_oEVnV"
      }
    },
    {
      "cell_type": "markdown",
      "source": [
        "**Q21.**What is the logging module in Python used for?  \n",
        "**Ans:**The logging module in Python is used to record (log) messages generated by a program, which can help in debugging, monitoring, and maintaining the application. It provides a flexible framework for generating logs, allowing developers to keep track of events, errors, and other significant occurrences in their code.\n",
        "\n",
        "Key Features of the logging Module:  \n",
        "\n",
        "1.Different Log Levels: The logging module supports multiple levels of logging, including DEBUG, INFO, WARNING, ERROR, and CRITICAL. This allows you to categorize and filter log messages based on their importance.\n",
        "\n",
        "2.Configurable Output: Log messages can be directed to various output destinations, such as the console, files, or remote servers. You can configure the output format, including timestamps, log levels, and message content.\n",
        "\n",
        "3.Customizable Logging: You can define custom loggers, handlers, and formatters to tailor the logging behavior to your specific needs. This provides great flexibility in how and where log messages are recorded.\n",
        "\n",
        "4.Exception Logging: The logging module can capture and log exceptions along with their stack traces, which is helpful for diagnosing errors."
      ],
      "metadata": {
        "id": "OQg5Q4qpEmca"
      }
    },
    {
      "cell_type": "markdown",
      "source": [
        "**Q22.** What is the os module in Python used for in file handling?  \n",
        "**Ans:**The os module in Python provides a way to interact with the operating system and perform various file handling operations. It offers numerous functions for manipulating files and directories, working with file paths, and handling system-level operations.   \n",
        "Here are some common uses of the os module in file handling:  \n",
        "1. Creating and Removing Directories.\n",
        "2. Changing the Current Working Directory.\n",
        "3. Listing Directory Contents.\n",
        "4. Checking File or Directory Existence.\n",
        "5. Renaming and Removing Files.\n",
        "6. Working with File Paths.\n",
        "7. Getting File Information."
      ],
      "metadata": {
        "id": "dPImHvBhEyot"
      }
    },
    {
      "cell_type": "markdown",
      "source": [
        "**Q23.**What are the challenges associated with memory management in Python?  \n",
        "**Ans:**Memory management in Python, while largely handled by the interpreter, does present several challenges.   \n",
        "Here are some common ones:\n",
        "1. Garbage Collection Overhead\n",
        "2. Reference Cycles\n",
        "3. Memory Fragmentation\n",
        "4. Manual Memory Management\n",
        "5. Large Objects and Data Structures\n",
        "6. Memory Leaks\n",
        "7. Multi-threading and Multi-processing\n",
        "8. Compatibility and Portability"
      ],
      "metadata": {
        "id": "5u6MOy8VE-tt"
      }
    },
    {
      "cell_type": "markdown",
      "source": [
        "**Q24.**How do you raise an exception manually in Python?  \n",
        "**Ans:** -We can raise an exception manaually using the raise keyword,followed by an exception object.  \n",
        "-raise volueError(\"An Error occurred\")"
      ],
      "metadata": {
        "id": "b0BoTOyuFN4J"
      }
    },
    {
      "cell_type": "markdown",
      "source": [
        "**Q25.**Why is it important to use multithreading in certain applications ?   \n",
        "**Ans:**Multithreading is crucial in certain applications for several reasons, primarily related to performance, responsiveness, and resource utilization.  \n",
        "Here are some key benefits:  \n",
        "1.Improved Performance  \n",
        "2.Increased Responsiveness  \n",
        "3.Efficient Resource Utilization  \n",
        "4.Concurrency  \n",
        "5.Better Performance for I/O-Bound Operations  \n",
        "6.Parallelism  \n",
        "7.Scalability  "
      ],
      "metadata": {
        "id": "-8ckShi4FX7g"
      }
    },
    {
      "cell_type": "markdown",
      "source": [
        "# **Practical Questions:**"
      ],
      "metadata": {
        "id": "2bzDjM46Fj35"
      }
    },
    {
      "cell_type": "markdown",
      "source": [
        "**Q1.**How can you open a file for writing in Python and write a string to it?"
      ],
      "metadata": {
        "id": "XLrwac51FyuW"
      }
    },
    {
      "cell_type": "code",
      "source": [
        "# Open the file for writing\n",
        "with open('example.txt', 'w') as file:\n",
        "    # Write a string to the file\n",
        "    file.write(\"Hello, world!\")"
      ],
      "metadata": {
        "id": "hmt9auuWrH3m"
      },
      "execution_count": 45,
      "outputs": []
    },
    {
      "cell_type": "markdown",
      "source": [
        "**Q2.** Write a Python program to read the contents of a file and print each line ."
      ],
      "metadata": {
        "id": "LkTsbepUF6_R"
      }
    },
    {
      "cell_type": "code",
      "source": [
        "# Open the file for reading\n",
        "with open('example.txt', 'r') as file:\n",
        "    # Read and print each line\n",
        "    for line in file:\n",
        "        print(line, end='')"
      ],
      "metadata": {
        "colab": {
          "base_uri": "https://localhost:8080/"
        },
        "id": "qAnxlWlzr0BA",
        "outputId": "f18192bd-c625-4cb8-ccd1-e31e756f4fab"
      },
      "execution_count": 44,
      "outputs": [
        {
          "output_type": "stream",
          "name": "stdout",
          "text": [
            "Hello, world!This is the new line of text.\n"
          ]
        }
      ]
    },
    {
      "cell_type": "markdown",
      "source": [
        "**Q3.** How would you handle a case where the file doesn't exist while trying to open it for reading ?"
      ],
      "metadata": {
        "id": "9d0XD9-qGBDr"
      }
    },
    {
      "cell_type": "code",
      "source": [
        "try:\n",
        "    # Attempt to open the file for reading\n",
        "    with open('nonexistent_file.txt', 'r') as file:\n",
        "        # Read and print each line\n",
        "        for line in file:\n",
        "            print(line, end='')\n",
        "except FileNotFoundError:\n",
        "    print(\"Error: The file does not exist.\")"
      ],
      "metadata": {
        "colab": {
          "base_uri": "https://localhost:8080/"
        },
        "id": "dG5vpJCJsWuw",
        "outputId": "e3992e68-27bc-400f-b234-1c56816f8b97"
      },
      "execution_count": 43,
      "outputs": [
        {
          "output_type": "stream",
          "name": "stdout",
          "text": [
            "Error: The file does not exist.\n"
          ]
        }
      ]
    },
    {
      "cell_type": "markdown",
      "source": [
        "**Q4.** Write a Python script that reads from one file and writes its content to another file ."
      ],
      "metadata": {
        "id": "1QGOXErsGG5T"
      }
    },
    {
      "cell_type": "code",
      "source": [
        "def copy_file(source_file, destination_file):\n",
        "    try:\n",
        "        # Open the source file for reading\n",
        "        with open(source_file, 'r') as src:\n",
        "            # Read the contents of the source file\n",
        "            contents = src.read()\n",
        "        with open(destination_file, 'w') as dest:\n",
        "            dest.write(contents)\n",
        "\n",
        "        print(f\"Contents copied from {source_file} to {destination_file} successfully.\")\n",
        "    except FileNotFoundError:\n",
        "        print(f\"Error: The file {source_file} does not exist.\")\n",
        "    except Exception as e:\n",
        "        print(f\"An error occurred: {e}\")\n",
        "\n",
        "source_file = 'source.txt'\n",
        "destination_file = 'destination.txt'\n",
        "copy_file(source_file, destination_file)"
      ],
      "metadata": {
        "colab": {
          "base_uri": "https://localhost:8080/"
        },
        "id": "xyit_Bhesohv",
        "outputId": "0a66531d-3b50-4966-f003-e77b9d66968f"
      },
      "execution_count": 42,
      "outputs": [
        {
          "output_type": "stream",
          "name": "stdout",
          "text": [
            "Error: The file source.txt does not exist.\n"
          ]
        }
      ]
    },
    {
      "cell_type": "markdown",
      "source": [
        "**Q5.**How would you catch and handle division by zero error in Python?"
      ],
      "metadata": {
        "id": "IuEFTCPNGQYi"
      }
    },
    {
      "cell_type": "code",
      "source": [
        "def safe_divide(a, b):\n",
        "    try:\n",
        "        result = a / b\n",
        "    except ZeroDivisionError:\n",
        "        print(\"Error: Cannot divide by zero!\")\n",
        "        return None\n",
        "    return result\n",
        "numerator = 10\n",
        "denominator = 0\n",
        "result = safe_divide(numerator, denominator)\n",
        "if result is not None:\n",
        "    print(f\"The result is: {result}\")"
      ],
      "metadata": {
        "colab": {
          "base_uri": "https://localhost:8080/"
        },
        "id": "FVzgZvaPtuB6",
        "outputId": "bb2f8546-0fa1-495d-d5cb-5eddc971a9d1"
      },
      "execution_count": 5,
      "outputs": [
        {
          "output_type": "stream",
          "name": "stdout",
          "text": [
            "Error: Cannot divide by zero!\n"
          ]
        }
      ]
    },
    {
      "cell_type": "markdown",
      "source": [
        "**Q6.**Write a Python program that logs an error message to a log file when a division by zero exception occurs ."
      ],
      "metadata": {
        "id": "k6afW3n6GWHn"
      }
    },
    {
      "cell_type": "code",
      "source": [
        "import logging\n",
        "\n",
        "# Configure logging to log to a file\n",
        "logging.basicConfig(filename='error_log.txt', level=logging.ERROR,\n",
        "                    format='%(asctime)s - %(levelname)s - %(message)s')\n",
        "def safe_divide(a, b):\n",
        "    try:\n",
        "        result = a / b\n",
        "    except ZeroDivisionError:\n",
        "        logging.error(\"Division by zero error occurred\")\n",
        "        return None\n",
        "    return result\n",
        "\n",
        "# Example usage\n",
        "numerator = 10\n",
        "denominator = 0\n",
        "result = safe_divide(numerator, denominator)\n",
        "if result is not None:\n",
        "    print(f\"The result is: {result}\")"
      ],
      "metadata": {
        "id": "IwHVd6icuiGC"
      },
      "execution_count": null,
      "outputs": []
    },
    {
      "cell_type": "markdown",
      "source": [
        "**Q7.**How do you log information at different levels (INFO, ERROR, WARNING) in Python using the logging module."
      ],
      "metadata": {
        "id": "9D2dZokIGe6p"
      }
    },
    {
      "cell_type": "code",
      "source": [
        "logging.basicConfig(level=logging.DEBUG)\n",
        "\n",
        "logging.debug(\"This is a debug message.\")\n",
        "logging.info(\"This is an info message.\")\n",
        "logging.warning(\"This is a warning message.\")\n",
        "logging.error(\"This is an error message.\")\n",
        "logging.critical(\"This is a critical message.\")"
      ],
      "metadata": {
        "id": "KzB10c4WvUIj"
      },
      "execution_count": null,
      "outputs": []
    },
    {
      "cell_type": "markdown",
      "source": [
        "**Q8.**Write a program to handle a file opening error using exception handling."
      ],
      "metadata": {
        "id": "M5ojod7EGkyW"
      }
    },
    {
      "cell_type": "code",
      "source": [
        "def open_file(filename):\n",
        "    try:\n",
        "        with open(filename, 'r') as file:\n",
        "            contents = file.read()\n",
        "            print(contents)\n",
        "    except FileNotFoundError:\n",
        "        print(f\"Error: The file '{filename}' does not exist.\")\n",
        "    except IOError as e:\n",
        "        print(f\"Error: An I/O error occurred: {e}\")\n",
        "filename = 'nonexistent_file.txt'\n",
        "open_file(filename)\n"
      ],
      "metadata": {
        "colab": {
          "base_uri": "https://localhost:8080/"
        },
        "id": "sA_YJwWhwGLI",
        "outputId": "57393279-c226-40a6-87d7-233e138652ec"
      },
      "execution_count": 9,
      "outputs": [
        {
          "output_type": "stream",
          "name": "stdout",
          "text": [
            "Error: The file 'nonexistent_file.txt' does not exist.\n"
          ]
        }
      ]
    },
    {
      "cell_type": "markdown",
      "source": [
        "**Q9.**How can you read a file line by line and store its content in a list in Python."
      ],
      "metadata": {
        "id": "45HqYYQHGrt8"
      }
    },
    {
      "cell_type": "code",
      "source": [
        "def read_file_into_list(filename):\n",
        "    lines = []\n",
        "    try:\n",
        "        with open(filename, 'r') as file:\n",
        "            for line in file:\n",
        "                lines.append(line.strip())\n",
        "    except FileNotFoundError:\n",
        "        print(f\"Error: The file '{filename}' does not exist.\")\n",
        "    except IOError as e:\n",
        "        print(f\"Error: An I/O error occurred: {e}\")\n",
        "    return lines\n",
        "filename = 'example.txt'\n",
        "lines = read_file_into_list(filename)\n",
        "print(line)"
      ],
      "metadata": {
        "colab": {
          "base_uri": "https://localhost:8080/"
        },
        "id": "5zocrbRMwuUD",
        "outputId": "4392512c-1866-4af4-af0a-a8ca9994f25f"
      },
      "execution_count": 39,
      "outputs": [
        {
          "output_type": "stream",
          "name": "stdout",
          "text": [
            "Hello, world!\n"
          ]
        }
      ]
    },
    {
      "cell_type": "markdown",
      "source": [
        "**Q10.**How can you append data to an existing file in Python?"
      ],
      "metadata": {
        "id": "hpqGREyvG17z"
      }
    },
    {
      "cell_type": "code",
      "source": [
        "filename = 'example.txt'\n",
        "data_to_append = \"This is the new line of text.\\n\"\n",
        "with open(filename, 'a') as file:\n",
        "    file.write(data_to_append)\n",
        "print(f\"Data has been appended to {filename}.\")"
      ],
      "metadata": {
        "colab": {
          "base_uri": "https://localhost:8080/"
        },
        "id": "7VduAD-JxQUa",
        "outputId": "2b7f01f9-cc49-4158-c10f-ed73addcdbbb"
      },
      "execution_count": 38,
      "outputs": [
        {
          "output_type": "stream",
          "name": "stdout",
          "text": [
            "Data has been appended to example.txt.\n"
          ]
        }
      ]
    },
    {
      "cell_type": "markdown",
      "source": [
        "**Q11.**Write a Python program that uses a try-except block to handle an error when attempting to access a\n",
        "dictionary key that doesn't exist."
      ],
      "metadata": {
        "id": "5LdyVxOCG7SY"
      }
    },
    {
      "cell_type": "code",
      "source": [
        "def get_value_from_dict(dictionary, key):\n",
        "    try:\n",
        "        value = dictionary[key]\n",
        "        print(f\"The value for '{key}' is: {value}\")\n",
        "    except KeyError:\n",
        "        print(f\"Error: The key '{key}' does not exist in the dictionary.\")\n",
        "\n",
        "my_dict = {'name': 'Avi', 'age': 6, 'city': 'Delhi'}\n",
        "key_to_access = 'address'\n",
        "get_value_from_dict(my_dict, key_to_access)\n"
      ],
      "metadata": {
        "colab": {
          "base_uri": "https://localhost:8080/"
        },
        "id": "y2QcwY-yxtBN",
        "outputId": "eb63c1b7-1d0c-4348-d4f8-d6cb10f93f5d"
      },
      "execution_count": 46,
      "outputs": [
        {
          "output_type": "stream",
          "name": "stdout",
          "text": [
            "Error: The key 'address' does not exist in the dictionary.\n"
          ]
        }
      ]
    },
    {
      "cell_type": "markdown",
      "source": [
        "**Q12.**Write a program that demonstrates using multiple except blocks to handle different types of exceptions."
      ],
      "metadata": {
        "id": "qii0lV0uHDJD"
      }
    },
    {
      "cell_type": "code",
      "source": [
        "def handle_exceptions():\n",
        "    try:\n",
        "        num1 = int(input(\"Enter the first number: \"))\n",
        "        num2 = int(input(\"Enter the second number: \"))\n",
        "        result = num1 / num2\n",
        "        my_list = [1, 2, 3]\n",
        "        element = my_list[num1]\n",
        "        print(f\"The result of the division is: {result}\")\n",
        "        print(f\"The element at index {num1} is: {element}\")\n",
        "\n",
        "    except ValueError:\n",
        "        print(\"Error: Invalid input. Please enter a valid integer.\")\n",
        "    except ZeroDivisionError:\n",
        "        print(\"Error: Division by zero is not allowed.\")\n",
        "    except IndexError:\n",
        "        print(\"Error: Index out of range. Please enter an index within the list length.\")\n",
        "    except Exception as e:\n",
        "        print(f\"An unexpected error occurred: {e}\")\n",
        "handle_exceptions()\n"
      ],
      "metadata": {
        "colab": {
          "base_uri": "https://localhost:8080/"
        },
        "id": "veeLSu2hyiMW",
        "outputId": "b01bd1cf-66bb-4aed-e794-6ca4031e494b"
      },
      "execution_count": 14,
      "outputs": [
        {
          "output_type": "stream",
          "name": "stdout",
          "text": [
            "Enter the first number: 2\n",
            "Enter the second number: 2\n",
            "The result of the division is: 1.0\n",
            "The element at index 2 is: 3\n"
          ]
        }
      ]
    },
    {
      "cell_type": "markdown",
      "source": [
        "**Q13.**How would you check if a file exists before attempting to read it in Python."
      ],
      "metadata": {
        "id": "DENV0gaSHJLq"
      }
    },
    {
      "cell_type": "code",
      "source": [
        "import os\n",
        "filename = 'example.txt'\n",
        "if os.path.exists(filename):\n",
        "    with open(filename, 'r') as file:\n",
        "        contents = file.read()\n",
        "        print(contents)\n",
        "else:\n",
        "    print(f\"Error: The file '{filename}' does not exist.\")"
      ],
      "metadata": {
        "colab": {
          "base_uri": "https://localhost:8080/"
        },
        "id": "guIpkHDFz2Po",
        "outputId": "3c349f9e-6203-4598-ef6a-36b34fc722ed"
      },
      "execution_count": 15,
      "outputs": [
        {
          "output_type": "stream",
          "name": "stdout",
          "text": [
            "Hello, world!\n"
          ]
        }
      ]
    },
    {
      "cell_type": "markdown",
      "source": [
        "**Q14.**Write a program that uses the logging module to log both informational and error messages."
      ],
      "metadata": {
        "id": "ZoUV3o4sHQZ_"
      }
    },
    {
      "cell_type": "code",
      "source": [
        "import logging\n",
        "logging.basicConfig(level=logging.DEBUG,\n",
        "                    format='%(asctime)s - %(levelname)s - %(message)s',\n",
        "                    handlers=[logging.FileHandler(\"app.log\"),\n",
        "                              logging.StreamHandler()])\n",
        "def divide(a, b):\n",
        "    try:\n",
        "        logging.info(f\"Attempting to divide {a} by {b}\")\n",
        "        result = a / b\n",
        "    except ZeroDivisionError:\n",
        "        logging.error(\"Division by zero error occurred\")\n",
        "        return None\n",
        "    else:\n",
        "        logging.info(f\"The result of division is {result}\")\n",
        "        return result\n",
        "numerator = 10\n",
        "denominator = 0\n",
        "result = divide(numerator, denominator)\n",
        "if result is not None:\n",
        "    print(f\"The result is: {result}\")\n",
        "else:\n",
        "    print(\"An error occurred during the division.\")"
      ],
      "metadata": {
        "id": "C6AlnC1L0YXS"
      },
      "execution_count": null,
      "outputs": []
    },
    {
      "cell_type": "markdown",
      "source": [
        "**Q15.**Write a Python program that prints the content of a file and handles the case when the file is empty ."
      ],
      "metadata": {
        "id": "hbRtr7yDHewI"
      }
    },
    {
      "cell_type": "code",
      "source": [
        "def print_file_content(filename):\n",
        "    try:\n",
        "        with open(filename, 'r') as file:\n",
        "            contents = file.read()\n",
        "            if not contents:\n",
        "                print(\"The file is empty.\")\n",
        "            else:\n",
        "                print(\"File contents:\")\n",
        "                print(contents)\n",
        "    except FileNotFoundError:\n",
        "        print(f\"Error: The file '{filename}' does not exist.\")\n",
        "    except IOError as e:\n",
        "        print(f\"Error: An I/O error occurred: {e}\")\n",
        "filename = 'example.txt'\n",
        "print_file_content(filename)"
      ],
      "metadata": {
        "colab": {
          "base_uri": "https://localhost:8080/"
        },
        "id": "895G5xVR1qmW",
        "outputId": "bfb48a65-e828-44ec-e7dc-d792182cab89"
      },
      "execution_count": 47,
      "outputs": [
        {
          "output_type": "stream",
          "name": "stdout",
          "text": [
            "File contents:\n",
            "Hello, world!\n"
          ]
        }
      ]
    },
    {
      "cell_type": "markdown",
      "source": [
        "**Q16.** Demonstrate how to use memory profiling to check the memory usage of a small program ."
      ],
      "metadata": {
        "id": "zTM8OMzBHhIa"
      }
    },
    {
      "cell_type": "code",
      "source": [
        "import tracemalloc\n",
        "tracemalloc.start()\n",
        "a = [1] * (10**4)\n",
        "b = [2] * (3 * 10**3)\n",
        "print(f\"Current memory usage: {tracemalloc.get_traced_memory()}\")\n",
        "\n",
        "tracemalloc.stop()"
      ],
      "metadata": {
        "colab": {
          "base_uri": "https://localhost:8080/"
        },
        "id": "V3d6f7z894LK",
        "outputId": "969d7490-c17a-416d-97c3-54c4527d3964"
      },
      "execution_count": 48,
      "outputs": [
        {
          "output_type": "stream",
          "name": "stdout",
          "text": [
            "Current memory usage: (105090, 116213)\n"
          ]
        }
      ]
    },
    {
      "cell_type": "markdown",
      "source": [
        "**Q17.**Write a Python program to create and write a list of numbers to a file, one number per line."
      ],
      "metadata": {
        "id": "AUqTTFYIHvO8"
      }
    },
    {
      "cell_type": "code",
      "source": [
        "def write_numbers_to_file(filename, numbers):\n",
        "    try:\n",
        "        # Open the file for writing\n",
        "        with open(filename, 'w') as file:\n",
        "            # Write each number to the file, one per line\n",
        "            for number in numbers:\n",
        "                file.write(f\"{number}\\n\")\n",
        "        print(f\"Numbers have been written to {filename}.\")\n",
        "    except IOError as e:\n",
        "        print(f\"Error: An I/O error occurred: {e}\")\n",
        "\n",
        "numbers_list = [1, 2, 3, 4, 5, 6, 7, 8, 9, 10]\n",
        "filename = 'numbers.txt'\n",
        "write_numbers_to_file(filename, numbers_list)\n"
      ],
      "metadata": {
        "colab": {
          "base_uri": "https://localhost:8080/"
        },
        "id": "KTLWSMZt2j4J",
        "outputId": "c8042430-74ca-4661-8a63-e55ab861e9cd"
      },
      "execution_count": 49,
      "outputs": [
        {
          "output_type": "stream",
          "name": "stdout",
          "text": [
            "Numbers have been written to numbers.txt.\n"
          ]
        }
      ]
    },
    {
      "cell_type": "markdown",
      "source": [
        "**Q18.**How would you implement a basic logging setup that logs to a file with rotation after 1MB?"
      ],
      "metadata": {
        "id": "vzDdxlmMH2d_"
      }
    },
    {
      "cell_type": "code",
      "source": [
        "import logging\n",
        "from logging.handlers import RotatingFileHandler\n",
        "log_file = \"app.log\"\n",
        "handler = RotatingFileHandler(log_file, maxBytes=1*1024*1024, backupCount=5)\n",
        "formatter = logging.Formatter('%(asctime)s - %(levelname)s - %(message)s')\n",
        "handler.setFormatter(formatter)\n",
        "logging.getLogger().addHandler(handler)\n",
        "logging.getLogger().setLevel(logging.DEBUG)\n",
        "logging.debug(\"This is a debug message.\")\n",
        "logging.info(\"This is an info message.\")\n",
        "logging.warning(\"This is a warning message.\")\n",
        "logging.error(\"This is an error message.\")\n",
        "logging.critical(\"This is a critical message.\")"
      ],
      "metadata": {
        "id": "DDBQs-NC2-MA"
      },
      "execution_count": null,
      "outputs": []
    },
    {
      "cell_type": "markdown",
      "source": [
        "**Q19.** Write a program that handles both IndexError and KeyError using a try-except block."
      ],
      "metadata": {
        "id": "xLnebzLbH9kS"
      }
    },
    {
      "cell_type": "code",
      "source": [
        "def handle_exceptions(index, key, lst, dictionary):\n",
        "    try:\n",
        "        element = lst[index]\n",
        "        print(f\"Element at index {index} is: {element}\")\n",
        "        value = dictionary[key]\n",
        "        print(f\"Value for key '{key}' is: {value}\")\n",
        "    except IndexError:\n",
        "        print(f\"Error: Index {index} is out of range.\")\n",
        "    except KeyError:\n",
        "        print(f\"Error: Key '{key}' does not exist in the dictionary.\")\n",
        "    except Exception as e:\n",
        "        print(f\"An unexpected error occurred: {e}\")\n",
        "my_list = [1, 2, 3]\n",
        "my_dict = {'name': 'Avi', 'age': 6, 'city': 'Delhi'}\n",
        "handle_exceptions(5, 'name', my_list, my_dict)  # IndexError\n",
        "handle_exceptions(2, 'address', my_list, my_dict)  # KeyError\n",
        "handle_exceptions(1, 'age', my_list, my_dict)  # No error\n"
      ],
      "metadata": {
        "colab": {
          "base_uri": "https://localhost:8080/"
        },
        "id": "g4NgZsbc3ZtS",
        "outputId": "0cf44346-252d-45ce-9bb2-f0ea55b69223"
      },
      "execution_count": 50,
      "outputs": [
        {
          "output_type": "stream",
          "name": "stdout",
          "text": [
            "Error: Index 5 is out of range.\n",
            "Element at index 2 is: 3\n",
            "Error: Key 'address' does not exist in the dictionary.\n",
            "Element at index 1 is: 2\n",
            "Value for key 'age' is: 6\n"
          ]
        }
      ]
    },
    {
      "cell_type": "markdown",
      "source": [
        "**Q20.**How would you open a file and read its contents using a context manager in Python?"
      ],
      "metadata": {
        "id": "mDfEIQrJIFOL"
      }
    },
    {
      "cell_type": "code",
      "source": [
        "filename = 'example.txt'\n",
        "\n",
        "with open(filename, 'r') as file:\n",
        "    contents = file.read()\n",
        "    print(contents)"
      ],
      "metadata": {
        "colab": {
          "base_uri": "https://localhost:8080/"
        },
        "id": "vYe33j1v3s4K",
        "outputId": "36265042-fdb9-4683-e121-b3625c737f9b"
      },
      "execution_count": 51,
      "outputs": [
        {
          "output_type": "stream",
          "name": "stdout",
          "text": [
            "Hello, world!\n"
          ]
        }
      ]
    },
    {
      "cell_type": "markdown",
      "source": [
        "**Q21.**Write a Python program that reads a file and prints the number of occurrences of a specific word."
      ],
      "metadata": {
        "id": "0xV2ICTRIMZp"
      }
    },
    {
      "cell_type": "code",
      "source": [
        "def count_word_occurrences(file_path, word):\n",
        "    try:\n",
        "        with open(file_path, 'r', encoding='utf-8') as file:\n",
        "            text = file.read()\n",
        "            word_count = text.lower().split().count(word.lower())\n",
        "        print(f\"The word '{word}' occurs {word_count} times in the file.\")\n",
        "    except FileNotFoundError:\n",
        "        print(f\"The file {file_path} does not exist.\")\n",
        "    except Exception as e:\n",
        "        print(f\"An error occurred: {e}\")\n",
        "file_path = 'example.txt'\n",
        "word = 'your_word'\n",
        "count_word_occurrences(file_path, word)"
      ],
      "metadata": {
        "colab": {
          "base_uri": "https://localhost:8080/"
        },
        "id": "544pZZUD38rj",
        "outputId": "5253a2d2-a802-46d2-fa50-d7ed3787f03d"
      },
      "execution_count": 52,
      "outputs": [
        {
          "output_type": "stream",
          "name": "stdout",
          "text": [
            "The word 'your_word' occurs 0 times in the file.\n"
          ]
        }
      ]
    },
    {
      "cell_type": "markdown",
      "source": [
        "**Q22.**How can you check if a file is empty before attempting to read its contents ?"
      ],
      "metadata": {
        "id": "r2UuL41WIThe"
      }
    },
    {
      "cell_type": "code",
      "source": [
        "import os\n",
        "\n",
        "if os.stat('example.txt').st_size == 0:\n",
        "    print(\"The file is empty.\")\n",
        "else:\n",
        "    with open('example.txt', 'r') as file:\n",
        "        print(file.read())"
      ],
      "metadata": {
        "colab": {
          "base_uri": "https://localhost:8080/"
        },
        "id": "bxN37jq052jy",
        "outputId": "a10c0764-32b0-4811-82c0-722bf7cf9e2b"
      },
      "execution_count": 53,
      "outputs": [
        {
          "output_type": "stream",
          "name": "stdout",
          "text": [
            "Hello, world!\n"
          ]
        }
      ]
    },
    {
      "cell_type": "markdown",
      "source": [
        "**Q23.**Write a Python program that writes to a log file when an error occurs during file handling."
      ],
      "metadata": {
        "id": "ls4GDCHcIcPA"
      }
    },
    {
      "cell_type": "code",
      "source": [
        "import logging\n",
        "logging.basicConfig(filename='file_error_log.txt', level=logging.ERROR,\n",
        "                    format='%(asctime)s - %(levelname)s - %(message)s')\n",
        "def read_file(filename):\n",
        "    try:\n",
        "        with open(filename, 'r') as file:\n",
        "            contents = file.read()\n",
        "            print(contents)\n",
        "    except FileNotFoundError:\n",
        "        logging.error(f\"Error: The file '{filename}' does not exist.\")\n",
        "        print(f\"Error: The file '{filename}' does not exist.\")\n",
        "    except IOError as e:\n",
        "        logging.error(f\"Error: An I/O error occurred: {e}\")\n",
        "        print(f\"Error: An I/O error occurred: {e}\")\n",
        "filename = 'nonexistent_file.txt'\n",
        "read_file(filename)"
      ],
      "metadata": {
        "id": "_H_YsjFb40gj"
      },
      "execution_count": null,
      "outputs": []
    }
  ]
}